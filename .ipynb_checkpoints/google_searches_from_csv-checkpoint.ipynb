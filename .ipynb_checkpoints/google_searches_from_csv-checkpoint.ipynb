{
 "cells": [
  {
   "cell_type": "code",
   "execution_count": 1,
   "id": "middle-harassment",
   "metadata": {},
   "outputs": [],
   "source": [
    "import pandas as pd\n",
    "from splinter import Browser"
   ]
  },
  {
   "cell_type": "code",
   "execution_count": 23,
   "id": "bored-wells",
   "metadata": {},
   "outputs": [
    {
     "data": {
      "text/html": [
       "<div>\n",
       "<style scoped>\n",
       "    .dataframe tbody tr th:only-of-type {\n",
       "        vertical-align: middle;\n",
       "    }\n",
       "\n",
       "    .dataframe tbody tr th {\n",
       "        vertical-align: top;\n",
       "    }\n",
       "\n",
       "    .dataframe thead th {\n",
       "        text-align: right;\n",
       "    }\n",
       "</style>\n",
       "<table border=\"1\" class=\"dataframe\">\n",
       "  <thead>\n",
       "    <tr style=\"text-align: right;\">\n",
       "      <th></th>\n",
       "      <th>0</th>\n",
       "    </tr>\n",
       "  </thead>\n",
       "  <tbody>\n",
       "    <tr>\n",
       "      <th>0</th>\n",
       "      <td>splinter python documentation</td>\n",
       "    </tr>\n",
       "    <tr>\n",
       "      <th>1</th>\n",
       "      <td>Pandas python documentation</td>\n",
       "    </tr>\n",
       "    <tr>\n",
       "      <th>2</th>\n",
       "      <td>Anaconda</td>\n",
       "    </tr>\n",
       "    <tr>\n",
       "      <th>3</th>\n",
       "      <td>MacOs homebrew</td>\n",
       "    </tr>\n",
       "  </tbody>\n",
       "</table>\n",
       "</div>"
      ],
      "text/plain": [
       "                               0\n",
       "0  splinter python documentation\n",
       "1    Pandas python documentation\n",
       "2                       Anaconda\n",
       "3                 MacOs homebrew"
      ]
     },
     "execution_count": 23,
     "metadata": {},
     "output_type": "execute_result"
    }
   ],
   "source": [
    "# since the scv does have header, use header=None, otherwise delete that\n",
    "df = pd.read_csv(\"./searches.csv\", header=None)\n",
    "df"
   ]
  },
  {
   "cell_type": "code",
   "execution_count": 24,
   "id": "scientific-punishment",
   "metadata": {},
   "outputs": [
    {
     "data": {
      "text/html": [
       "<div>\n",
       "<style scoped>\n",
       "    .dataframe tbody tr th:only-of-type {\n",
       "        vertical-align: middle;\n",
       "    }\n",
       "\n",
       "    .dataframe tbody tr th {\n",
       "        vertical-align: top;\n",
       "    }\n",
       "\n",
       "    .dataframe thead th {\n",
       "        text-align: right;\n",
       "    }\n",
       "</style>\n",
       "<table border=\"1\" class=\"dataframe\">\n",
       "  <thead>\n",
       "    <tr style=\"text-align: right;\">\n",
       "      <th></th>\n",
       "      <th>searches</th>\n",
       "    </tr>\n",
       "  </thead>\n",
       "  <tbody>\n",
       "    <tr>\n",
       "      <th>0</th>\n",
       "      <td>splinter python documentation</td>\n",
       "    </tr>\n",
       "    <tr>\n",
       "      <th>1</th>\n",
       "      <td>Pandas python documentation</td>\n",
       "    </tr>\n",
       "    <tr>\n",
       "      <th>2</th>\n",
       "      <td>Anaconda</td>\n",
       "    </tr>\n",
       "    <tr>\n",
       "      <th>3</th>\n",
       "      <td>MacOs homebrew</td>\n",
       "    </tr>\n",
       "  </tbody>\n",
       "</table>\n",
       "</div>"
      ],
      "text/plain": [
       "                        searches\n",
       "0  splinter python documentation\n",
       "1    Pandas python documentation\n",
       "2                       Anaconda\n",
       "3                 MacOs homebrew"
      ]
     },
     "execution_count": 24,
     "metadata": {},
     "output_type": "execute_result"
    }
   ],
   "source": [
    "# changing the column name to \"searches\" \n",
    "df.columns = [\"searches\"]\n",
    "df"
   ]
  },
  {
   "cell_type": "code",
   "execution_count": 27,
   "id": "funded-company",
   "metadata": {},
   "outputs": [],
   "source": [
    "\"\"\" \n",
    "    create spliter browser\n",
    "\n",
    "change the path to `./web_drivers/chromedriver` if using intel based Mac\n",
    "\"\"\"\n",
    "chrome_driver_path = {'executable_path':'./web_drivers/chromedriver_m1'}\n",
    "\n",
    "browser = Browser('chrome', **chrome_driver_path)\n",
    "url = \"https://www.google.com\""
   ]
  },
  {
   "cell_type": "code",
   "execution_count": 28,
   "id": "pressing-combination",
   "metadata": {},
   "outputs": [
    {
     "name": "stdout",
     "output_type": "stream",
     "text": [
      "start searching for : splinter python documentation\n",
      "start searching for : Pandas python documentation\n",
      "start searching for : Anaconda\n",
      "start searching for : MacOs homebrew\n"
     ]
    }
   ],
   "source": [
    "# using python for loop to go thru all the searches in the DataFrame\n",
    "for i in range(len(df[\"searches\"])):\n",
    "    #getting the search from the Pandas DataFrame\n",
    "    search = df[\"searches\"].loc[i]\n",
    "    \n",
    "    print(\"start searching for : \" + search)\n",
    "    browser.visit(url)\n",
    "    \n",
    "    #name tag on the HTML for the button is 'q', second argument its what we want to search\n",
    "    browser.fill('q', search)\n",
    "    \n",
    "    # search on the browser window the name 'btnk', since that's what google named their button. \n",
    "    # and then clicked\n",
    "    search_button = browser.find_by_name('btnK')\n",
    "    search_button.click()\n",
    "    \n",
    "    # browser has a propety first and last to return the first or last element\n",
    "    result = browser.find_by_css('div[class=g]').first\n",
    "    \n",
    "    href = result.find_by_tag('a')['href']\n",
    "    df.at[i, 'links'] = href\n",
    "    "
   ]
  },
  {
   "cell_type": "code",
   "execution_count": 19,
   "id": "cultural-daniel",
   "metadata": {},
   "outputs": [],
   "source": []
  },
  {
   "cell_type": "code",
   "execution_count": 29,
   "id": "southwest-actress",
   "metadata": {},
   "outputs": [
    {
     "data": {
      "text/html": [
       "<div>\n",
       "<style scoped>\n",
       "    .dataframe tbody tr th:only-of-type {\n",
       "        vertical-align: middle;\n",
       "    }\n",
       "\n",
       "    .dataframe tbody tr th {\n",
       "        vertical-align: top;\n",
       "    }\n",
       "\n",
       "    .dataframe thead th {\n",
       "        text-align: right;\n",
       "    }\n",
       "</style>\n",
       "<table border=\"1\" class=\"dataframe\">\n",
       "  <thead>\n",
       "    <tr style=\"text-align: right;\">\n",
       "      <th></th>\n",
       "      <th>searches</th>\n",
       "      <th>links</th>\n",
       "    </tr>\n",
       "  </thead>\n",
       "  <tbody>\n",
       "    <tr>\n",
       "      <th>0</th>\n",
       "      <td>splinter python documentation</td>\n",
       "      <td>https://splinter.readthedocs.io/</td>\n",
       "    </tr>\n",
       "    <tr>\n",
       "      <th>1</th>\n",
       "      <td>Pandas python documentation</td>\n",
       "      <td>https://pandas.pydata.org/docs/</td>\n",
       "    </tr>\n",
       "    <tr>\n",
       "      <th>2</th>\n",
       "      <td>Anaconda</td>\n",
       "      <td>https://www.anaconda.com/</td>\n",
       "    </tr>\n",
       "    <tr>\n",
       "      <th>3</th>\n",
       "      <td>MacOs homebrew</td>\n",
       "      <td>https://brew.sh/</td>\n",
       "    </tr>\n",
       "  </tbody>\n",
       "</table>\n",
       "</div>"
      ],
      "text/plain": [
       "                        searches                             links\n",
       "0  splinter python documentation  https://splinter.readthedocs.io/\n",
       "1    Pandas python documentation   https://pandas.pydata.org/docs/\n",
       "2                       Anaconda         https://www.anaconda.com/\n",
       "3                 MacOs homebrew                  https://brew.sh/"
      ]
     },
     "execution_count": 29,
     "metadata": {},
     "output_type": "execute_result"
    }
   ],
   "source": [
    "df"
   ]
  },
  {
   "cell_type": "code",
   "execution_count": 30,
   "id": "uniform-effectiveness",
   "metadata": {},
   "outputs": [],
   "source": [
    "browser.quit()"
   ]
  },
  {
   "cell_type": "code",
   "execution_count": 32,
   "id": "rubber-voice",
   "metadata": {},
   "outputs": [],
   "source": [
    "df.to_csv(\"google_results.csv\", index=False, header=True)"
   ]
  },
  {
   "cell_type": "code",
   "execution_count": null,
   "id": "pending-filter",
   "metadata": {},
   "outputs": [],
   "source": []
  }
 ],
 "metadata": {
  "kernelspec": {
   "display_name": "Python 3",
   "language": "python",
   "name": "python3"
  },
  "language_info": {
   "codemirror_mode": {
    "name": "ipython",
    "version": 3
   },
   "file_extension": ".py",
   "mimetype": "text/x-python",
   "name": "python",
   "nbconvert_exporter": "python",
   "pygments_lexer": "ipython3",
   "version": "3.8.8"
  }
 },
 "nbformat": 4,
 "nbformat_minor": 5
}
