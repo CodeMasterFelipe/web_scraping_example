{
 "cells": [
  {
   "cell_type": "markdown",
   "metadata": {},
   "source": [
    "\n",
    "### setup enviroment:\n",
    "https://splinter.readthedocs.io/en/latest/drivers/chrome.html\n",
    "\n",
    "#### step one:\n",
    "\n",
    "install homebrew if its not already installed\n",
    "https://brew.sh/\n",
    "\n",
    "#### step two:\n",
    "run this on terminal\n",
    "```brew cask install chromedriver``` or ```brew install chromedriver```\n",
    "\n",
    "#### extra step for Apple M1:\n",
    "on the terminal: ```export PATH=/usr/local/bin:$PATH```"
   ]
  },
  {
   "cell_type": "code",
   "execution_count": 68,
   "metadata": {},
   "outputs": [],
   "source": [
    "from splinter import Browser\n",
    "import pandas as pd"
   ]
  },
  {
   "cell_type": "code",
   "execution_count": 69,
   "metadata": {},
   "outputs": [],
   "source": [
    "\"\"\"\n",
    "Create spliter browser, executable path its where the driver its located\n",
    "change the path to `./web_drivers/chromedriver` if using intel based Mac\n",
    "\"\"\"\n",
    "chrome_driver_path = {'executable_path':'./web_drivers/chromedriver_m1'}\n",
    "\n",
    "browser = Browser('chrome', **chrome_driver_path)"
   ]
  },
  {
   "cell_type": "code",
   "execution_count": 72,
   "metadata": {},
   "outputs": [],
   "source": [
    "url = \"https://www.google.com\" #https:// its needed\n",
    "browser.visit(url)"
   ]
  },
  {
   "cell_type": "code",
   "execution_count": 73,
   "metadata": {},
   "outputs": [],
   "source": [
    "#name tag on the HTML for the button is 'q', second argument its what we want to search\n",
    "browser.fill('q', 'splinter python')"
   ]
  },
  {
   "cell_type": "code",
   "execution_count": 74,
   "metadata": {},
   "outputs": [],
   "source": [
    "# search on the browser window the name 'btnk', since that's what google named their button. \n",
    "# and then clicked\n",
    "search_button = browser.find_by_name('btnK')\n",
    "search_button.click()"
   ]
  },
  {
   "cell_type": "code",
   "execution_count": null,
   "metadata": {},
   "outputs": [],
   "source": []
  },
  {
   "cell_type": "code",
   "execution_count": 75,
   "metadata": {},
   "outputs": [
    {
     "data": {
      "text/plain": [
       "<splinter.element_list.ElementList at 0x7feff0576bb0>"
      ]
     },
     "execution_count": 75,
     "metadata": {},
     "output_type": "execute_result"
    }
   ],
   "source": [
    "# the results are separetated with each div with a class = g\n",
    "# <div class=\"g\"> ... </div>\n",
    "results = browser.find_by_css('div[class=g]')\n",
    "results"
   ]
  },
  {
   "cell_type": "code",
   "execution_count": 76,
   "metadata": {
    "scrolled": true
   },
   "outputs": [
    {
     "data": {
      "text/plain": [
       "'<h2 class=\"Uo8X3b\">Web Result with Site Links</h2><div><link href=\"https://splinter.readthedocs.io/\" rel=\"prerender\"><div class=\"tF2Cxc\" data-hveid=\"CAgQAQ\" data-ved=\"2ahUKEwjomPzrhtTvAhUULX0KHXAsCWYQFSgAMAB6BAgIEAE\"><div class=\"yuRUbf\"><a href=\"https://splinter.readthedocs.io/\" data-ved=\"2ahUKEwjomPzrhtTvAhUULX0KHXAsCWYQFjAAegQICBAE\" ping=\"/url?sa=t&amp;source=web&amp;rct=j&amp;url=https://splinter.readthedocs.io/&amp;ved=2ahUKEwjomPzrhtTvAhUULX0KHXAsCWYQFjAAegQICBAE\"><br><h3 class=\"LC20lb DKV0Md\">Splinter — Splinter 0.14.0 documentation</h3><div class=\"TbwUpd NJjxre\"><cite class=\"iUh30 Zu0yb tjvcx\">splinter.readthedocs.io</cite></div></a><div class=\"B6fmyf\"><div class=\"TbwUpd\"><cite class=\"iUh30 Zu0yb tjvcx\">splinter.readthedocs.io</cite></div><div class=\"eFM0qc\"></div><div class=\"csDOgf\"><div jscontroller=\"dsu0Sc\" jsaction=\"KyPa0e:WZTn;wjOG7e:edHC5b;\" data-ved=\"2ahUKEwjomPzrhtTvAhUULX0KHXAsCWYQ2esEMAB6BAgIEAU\"><g-popup jsname=\"Y3ZMZd\" jscontroller=\"NZI0Db\" jsaction=\"A05xBd:IYtByb;\" jsdata=\"mVjAjf;_;Bu2YoU\"><div jsname=\"oYxtQd\" class=\"rIbAWc\" aria-expanded=\"false\" aria-haspopup=\"true\" role=\"button\" tabindex=\"0\" jsaction=\"WFrRFb;keydown:uYT2Vb\"><div role=\"button\" tabindex=\"0\" jsname=\"I3kE2c\" class=\"iTPLzd TqCBb\" style=\"padding-left:12px;padding-right:12px;padding-bottom:12px;position:absolute\" aria-label=\"About this Result\"><span jsname=\"czHhOd\" class=\"D6lY4c\"><span jsname=\"Bil8Ae\" class=\"xTFaxe z1asCe SaPW2b\" style=\"height:18px;line-height:18px;width:18px\"><svg focusable=\"false\" xmlns=\"http://www.w3.org/2000/svg\" viewBox=\"0 0 24 24\"><path d=\"M12 8c1.1 0 2-.9 2-2s-.9-2-2-2-2 .9-2 2 .9 2 2 2zm0 2c-1.1 0-2 .9-2 2s.9 2 2 2 2-.9 2-2-.9-2-2-2zm0 6c-1.1 0-2 .9-2 2s.9 2 2 2 2-.9 2-2-.9-2-2-2z\"></path></svg></span></span></div></div><div jsname=\"V68bde\" class=\"EwsJzb\" style=\"display:none;z-index:1\"><div id=\"_dAVhYOiOJ5Ta9APw2KSwBg21\"><div jsname=\"MZArnb\" class=\"CBPSbf\" role=\"dialog\" tabindex=\"0\" data-hveid=\"CAgQBw\" data-ved=\"2ahUKEwjomPzrhtTvAhUULX0KHXAsCWYQh-4GMAB6BAgIEAc\"><div class=\"yo1Kg\"><div class=\"Tuycfb\" href=\"?hl=en\">About this result</div><div class=\"Ylj7Od\">BETA</div><div class=\"aTFBf\"><span jsname=\"TvD9Pc\" class=\"lDVmg S003Ke nAXVG z1asCe wuXmqc\" style=\"padding:16px;height:20px;line-height:20px;width:20px\" aria-label=\"Close About This Result\" role=\"button\" tabindex=\"0\"><svg focusable=\"false\" xmlns=\"http://www.w3.org/2000/svg\" viewBox=\"0 0 24 24\"><path d=\"M19 6.41L17.59 5 12 10.59 6.41 5 5 6.41 10.59 12 5 17.59 6.41 19 12 13.41 17.59 19 19 17.59 13.41 12z\"></path></svg></span></div></div><div class=\"Cn0uId\"><div class=\"z3sb8 abwWE\"></div><div class=\"z3sb8 z665nc\"></div><div class=\"z3sb8 uBOhsb\"></div><div class=\"z3sb8 k8Juzf\"></div></div><div jsname=\"s2gQvd\" class=\"cygiMd\" style=\"padding-bottom:52px\"><div class=\"kyas6e\"><div class=\"x1Fkmf\">Source</div><div class=\"DCiuzf\" style=\"display:inline\"><img class=\"Pb0vac\" src=\"data:image/png;base64,iVBORw0KGgoAAAANSUhEUgAAABAAAAAQCAMAAAAoLQ9TAAAARVBMVEVGUVhET1ZDTVQ9SVBaaHFufolsfYimrLGgp6t4gIaQprSTqLcuO0Lv9Pjm6+/r8PQ4QUb0+PwXKjQyP0eOpLKboaaMoa9d6+TqAAAAaUlEQVR4AXWPhQHAIAzA8OEO/586ZC5B6y0AEDUgwAPUZEIZowQvvCMQQFQqJak2Des4Bogp7xXTIabo7LciK5WZdj1kKiRrW5vCi/0OeXvkxi1HrjWfIf8K15ghVObcW7eN1vpruNf4KxbNCc/6xR3AAAAAAElFTkSuQmCC\"><span>Read the Docs is an open sourced free software documentation hosting platform. It generates documentation written with the Sphinx documentation generator. The site was created in 2010 by Eric Holscher, Bobby Grace, and Charles Leifer.</span></div><div style=\"display:inline;margin-left:4px;font-size:14px\"><a href=\"https://en.wikipedia.org/wiki/Read_the_Docs\">Wikipedia</a></div><ul class=\"KpCJvf\" style=\"display:inline\"><li class=\"f22z0e\" style=\"padding-top:12px\"><div class=\"kyLIJe\"><span>Your connection to this site is <b>secure</b></span></div></li><li class=\"f22z0e\"><div class=\"kyLIJe\"><a href=\"https://splinter.readthedocs.io/\" target=\"_blank\">https://splinter.readthedocs.io/</a></div></li></ul></div><div class=\"gGlYHf\"><p href=\"?hl=en\">This is a search result, not an ad. Only ads are paid, and they\\'ll always be labeled with \"Sponsored\" or \"Ad.\"</p><br><a jsname=\"oyt78e\" class=\"O0oZCe\" role=\"link\" tabindex=\"0\" data-ved=\"2ahUKEwjomPzrhtTvAhUULX0KHXAsCWYQ0r4HMAB6BAgIEAk\">Send feedback on this info</a></div><div jsname=\"LQLjdd\" class=\"OAssce\"><div class=\"Imj78\"><div class=\"u0G9Kc\"><a href=\"https://myactivity.google.com/privacyadvisor/search\" tabindex=\"0\" target=\"_blank\"><div class=\"gziGLd WGYX8\" id=\"qCA1yf\"><span class=\"cQkxXe\"><span class=\"mdUiPd S003Ke mtnwac z1asCe E9hVAb\" style=\"height:14px;line-height:14px;width:14px\"><svg focusable=\"false\" xmlns=\"http://www.w3.org/2000/svg\" viewBox=\"0 0 24 24\"><path d=\"M19.43 12.98c.04-.32.07-.64.07-.98s-.03-.66-.07-.98l2.11-1.65c.19-.15.24-.42.12-.64l-2-3.46c-.12-.22-.39-.3-.61-.22l-2.49 1c-.52-.4-1.08-.73-1.69-.98l-.38-2.65C14.46 2.18 14.25 2 14 2h-4c-.25 0-.46.18-.49.42l-.38 2.65c-.61.25-1.17.59-1.69.98l-2.49-1c-.23-.09-.49 0-.61.22l-2 3.46c-.13.22-.07.49.12.64l2.11 1.65c-.04.32-.07.65-.07.98s.03.66.07.98l-2.11 1.65c-.19.15-.24.42-.12.64l2 3.46c.12.22.39.3.61.22l2.49-1c.52.4 1.08.73 1.69.98l.38 2.65c.03.24.24.42.49.42h4c.25 0 .46-.18.49-.42l.38-2.65c.61-.25 1.17-.59 1.69-.98l2.49 1c.23.09.49 0 .61-.22l2-3.46c.12-.22.07-.49-.12-.64l-2.11-1.65zM12 15.5c-1.93 0-3.5-1.57-3.5-3.5s1.57-3.5 3.5-3.5 3.5 1.57 3.5 3.5-1.57 3.5-3.5 3.5z\"></path></svg></span> <span>Privacy settings</span></span></div></a></div><div class=\"u0G9Kc\"><a href=\"https://www.google.com/search/howsearchworks/\" tabindex=\"0\" target=\"_blank\"><div class=\"gziGLd WGYX8\" id=\"fGmxxe\"><span class=\"cQkxXe\"><span class=\"mdUiPd S003Ke mtnwac z1asCe MZy1Rb\" style=\"height:14px;line-height:14px;width:14px\"><svg focusable=\"false\" xmlns=\"http://www.w3.org/2000/svg\" viewBox=\"0 0 24 24\"><path d=\"M15.5 14h-.79l-.28-.27A6.471 6.471 0 0 0 16 9.5 6.5 6.5 0 1 0 9.5 16c1.61 0 3.09-.59 4.23-1.57l.27.28v.79l5 4.99L20.49 19l-4.99-5zm-6 0C7.01 14 5 11.99 5 9.5S7.01 5 9.5 5 14 7.01 14 9.5 11.99 14 9.5 14z\"></path></svg></span><span>How Search works</span></span></div></a></div><div class=\"u0G9Kc\"><div class=\"gziGLd NTrp2c WGYX8\" style=\"padding:0\"><a href=\"https://webcache.googleusercontent.com/search?q=cache:ChI3-GoEylsJ:https://splinter.readthedocs.io/+&amp;cd=1&amp;hl=en&amp;ct=clnk&amp;gl=us\" ping=\"/url?sa=t&amp;source=web&amp;rct=j&amp;url=https://webcache.googleusercontent.com/search%3Fq%3Dcache:ChI3-GoEylsJ:https://splinter.readthedocs.io/%2B%26cd%3D1%26hl%3Den%26ct%3Dclnk%26gl%3Dus&amp;ved=2ahUKEwjomPzrhtTvAhUULX0KHXAsCWYQIDAAegQICBAN\"><span>Cached</span></a></div></div><div class=\"u0G9Kc\"><div class=\"gziGLd NTrp2c WGYX8\" style=\"padding:0\"><a href=\"/search?q=related:https://splinter.readthedocs.io/+splinter+python&amp;sa=X&amp;ved=2ahUKEwjomPzrhtTvAhUULX0KHXAsCWYQHzAAegQICBAP\"><span>Similar</span></a></div></div></div><div class=\"Vk8eFe\" role=\"region\" tabindex=\"0\"></div></div></div></div></div></div></g-popup></div></div></div></div><div class=\"IsZvec\"><span class=\"aCOpRe\"><span><em>Splinter</em>¶. <em>Splinter</em> is an open source tool for testing web applications using <em>Python</em>. It lets you automate browser actions, such as visiting URLs and interacting with&nbsp;...</span></span></div></div><table class=\"jmjoTe\" cellpadding=\"0\" cellspacing=\"0\"><tbody><tr class=\"mslg dmenKe\"><td><div class=\"usJj9c\"><h3 class=\"r\"><a class=\"l\" href=\"https://splinter.readthedocs.io/en/latest/tutorial.html\" data-ved=\"2ahUKEwjomPzrhtTvAhUULX0KHXAsCWYQjBAwAXoECAIQAQ\" ping=\"/url?sa=t&amp;source=web&amp;rct=j&amp;url=https://splinter.readthedocs.io/en/latest/tutorial.html&amp;ved=2ahUKEwjomPzrhtTvAhUULX0KHXAsCWYQjBAwAXoECAIQAQ\">Splinter Tutorial</a></h3><div class=\"s\"><div class=\"st\" style=\"overflow:hidden;width:220px\">Splinter tutorial, learn how to test your web applications.<br></div></div></div></td><td><div class=\"usJj9c\"><h3 class=\"r\"><a class=\"l\" href=\"https://splinter.readthedocs.io/en/latest/install.html\" data-ved=\"2ahUKEwjomPzrhtTvAhUULX0KHXAsCWYQjBAwBHoECAkQAQ\" ping=\"/url?sa=t&amp;source=web&amp;rct=j&amp;url=https://splinter.readthedocs.io/en/latest/install.html&amp;ved=2ahUKEwjomPzrhtTvAhUULX0KHXAsCWYQjBAwBHoECAkQAQ\">Install guide</a></h3><div class=\"s\"><div class=\"st\" style=\"overflow:hidden;width:220px\">If you\\'re using Linux or Mac OS X, it is probably already installed ...<br></div></div></div></td></tr><tr class=\"mslg c9EJob\"><td><div class=\"usJj9c\"><h3 class=\"r\"><a class=\"l\" href=\"https://splinter.readthedocs.io/en/latest/browser.html\" data-ved=\"2ahUKEwjomPzrhtTvAhUULX0KHXAsCWYQjBAwAnoECAsQAQ\" ping=\"/url?sa=t&amp;source=web&amp;rct=j&amp;url=https://splinter.readthedocs.io/en/latest/browser.html&amp;ved=2ahUKEwjomPzrhtTvAhUULX0KHXAsCWYQjBAwAnoECAsQAQ\">Browser</a></h3><div class=\"s\"><div class=\"st\" style=\"overflow:hidden;width:220px\">To use splinter you need to create a Browser instance: from ...<br></div></div></div></td><td><div class=\"usJj9c\"><h3 class=\"r\"><a class=\"l\" href=\"https://splinter.readthedocs.io/en/0.0.3/\" data-ved=\"2ahUKEwjomPzrhtTvAhUULX0KHXAsCWYQjBAwBXoECAYQAQ\" ping=\"/url?sa=t&amp;source=web&amp;rct=j&amp;url=https://splinter.readthedocs.io/en/0.0.3/&amp;ved=2ahUKEwjomPzrhtTvAhUULX0KHXAsCWYQjBAwBXoECAYQAQ\">0.0.3</a></h3><div class=\"s\"><div class=\"st\" style=\"overflow:hidden;width:220px\">splinter - python acceptance testing for web applications ...<br></div></div></div></td></tr><tr class=\"mslg\"><td><div class=\"usJj9c\"><h3 class=\"r\"><a class=\"l\" href=\"https://splinter.readthedocs.io/en/latest/drivers/chrome.html\" data-ved=\"2ahUKEwjomPzrhtTvAhUULX0KHXAsCWYQjBAwA3oECAoQAQ\" ping=\"/url?sa=t&amp;source=web&amp;rct=j&amp;url=https://splinter.readthedocs.io/en/latest/drivers/chrome.html&amp;ved=2ahUKEwjomPzrhtTvAhUULX0KHXAsCWYQjBAwA3oECAoQAQ\">Chrome WebDriver</a></h3><div class=\"s\"><div class=\"st\" style=\"overflow:hidden;width:220px\">Chrome can also be used from a custom path. To do this pass the ...<br></div></div></div></td><td><div class=\"usJj9c\"><h3 class=\"r\"><a class=\"l\" href=\"https://splinter.readthedocs.io/en/latest/finding.html\" data-ved=\"2ahUKEwjomPzrhtTvAhUULX0KHXAsCWYQjBAwBnoECAQQAQ\" ping=\"/url?sa=t&amp;source=web&amp;rct=j&amp;url=https://splinter.readthedocs.io/en/latest/finding.html&amp;ved=2ahUKEwjomPzrhtTvAhUULX0KHXAsCWYQjBAwBnoECAQQAQ\">Finding elements</a></h3><div class=\"s\"><div class=\"st\" style=\"overflow:hidden;width:220px\">Splinter provides 6 methods for finding elements in the page ...<br></div></div></div></td></tr><tr><td class=\"H3TZoe\" colspan=\"2\"><div class=\"vLK3gc\"><a class=\"fl\" href=\"/search?q=splinter+python+site:splinter.readthedocs.io&amp;sa=X&amp;ved=2ahUKEwjomPzrhtTvAhUULX0KHXAsCWYQrAN6BAgIEBA\">More results from splinter.readthedocs.io&nbsp;»</a></div></td></tr></tbody></table></div>'"
      ]
     },
     "execution_count": 76,
     "metadata": {},
     "output_type": "execute_result"
    }
   ],
   "source": [
    "# since results its a list, we can get the first element. and to see if we got any html back with .html\n",
    "# now obj its just the html specific to that result, so its trimmed down\n",
    "elmt_html = results[0].html\n",
    "elmt_html"
   ]
  },
  {
   "cell_type": "code",
   "execution_count": 77,
   "metadata": {},
   "outputs": [
    {
     "data": {
      "text/html": [
       "<h2 class=\"Uo8X3b\">Web Result with Site Links</h2><div><link href=\"https://splinter.readthedocs.io/\" rel=\"prerender\"><div class=\"tF2Cxc\" data-hveid=\"CAgQAQ\" data-ved=\"2ahUKEwjomPzrhtTvAhUULX0KHXAsCWYQFSgAMAB6BAgIEAE\"><div class=\"yuRUbf\"><a href=\"https://splinter.readthedocs.io/\" data-ved=\"2ahUKEwjomPzrhtTvAhUULX0KHXAsCWYQFjAAegQICBAE\" ping=\"/url?sa=t&amp;source=web&amp;rct=j&amp;url=https://splinter.readthedocs.io/&amp;ved=2ahUKEwjomPzrhtTvAhUULX0KHXAsCWYQFjAAegQICBAE\"><br><h3 class=\"LC20lb DKV0Md\">Splinter — Splinter 0.14.0 documentation</h3><div class=\"TbwUpd NJjxre\"><cite class=\"iUh30 Zu0yb tjvcx\">splinter.readthedocs.io</cite></div></a><div class=\"B6fmyf\"><div class=\"TbwUpd\"><cite class=\"iUh30 Zu0yb tjvcx\">splinter.readthedocs.io</cite></div><div class=\"eFM0qc\"></div><div class=\"csDOgf\"><div jscontroller=\"dsu0Sc\" jsaction=\"KyPa0e:WZTn;wjOG7e:edHC5b;\" data-ved=\"2ahUKEwjomPzrhtTvAhUULX0KHXAsCWYQ2esEMAB6BAgIEAU\"><g-popup jsname=\"Y3ZMZd\" jscontroller=\"NZI0Db\" jsaction=\"A05xBd:IYtByb;\" jsdata=\"mVjAjf;_;Bu2YoU\"><div jsname=\"oYxtQd\" class=\"rIbAWc\" aria-expanded=\"false\" aria-haspopup=\"true\" role=\"button\" tabindex=\"0\" jsaction=\"WFrRFb;keydown:uYT2Vb\"><div role=\"button\" tabindex=\"0\" jsname=\"I3kE2c\" class=\"iTPLzd TqCBb\" style=\"padding-left:12px;padding-right:12px;padding-bottom:12px;position:absolute\" aria-label=\"About this Result\"><span jsname=\"czHhOd\" class=\"D6lY4c\"><span jsname=\"Bil8Ae\" class=\"xTFaxe z1asCe SaPW2b\" style=\"height:18px;line-height:18px;width:18px\"><svg focusable=\"false\" xmlns=\"http://www.w3.org/2000/svg\" viewBox=\"0 0 24 24\"><path d=\"M12 8c1.1 0 2-.9 2-2s-.9-2-2-2-2 .9-2 2 .9 2 2 2zm0 2c-1.1 0-2 .9-2 2s.9 2 2 2 2-.9 2-2-.9-2-2-2zm0 6c-1.1 0-2 .9-2 2s.9 2 2 2 2-.9 2-2-.9-2-2-2z\"></path></svg></span></span></div></div><div jsname=\"V68bde\" class=\"EwsJzb\" style=\"display:none;z-index:1\"><div id=\"_dAVhYOiOJ5Ta9APw2KSwBg21\"><div jsname=\"MZArnb\" class=\"CBPSbf\" role=\"dialog\" tabindex=\"0\" data-hveid=\"CAgQBw\" data-ved=\"2ahUKEwjomPzrhtTvAhUULX0KHXAsCWYQh-4GMAB6BAgIEAc\"><div class=\"yo1Kg\"><div class=\"Tuycfb\" href=\"?hl=en\">About this result</div><div class=\"Ylj7Od\">BETA</div><div class=\"aTFBf\"><span jsname=\"TvD9Pc\" class=\"lDVmg S003Ke nAXVG z1asCe wuXmqc\" style=\"padding:16px;height:20px;line-height:20px;width:20px\" aria-label=\"Close About This Result\" role=\"button\" tabindex=\"0\"><svg focusable=\"false\" xmlns=\"http://www.w3.org/2000/svg\" viewBox=\"0 0 24 24\"><path d=\"M19 6.41L17.59 5 12 10.59 6.41 5 5 6.41 10.59 12 5 17.59 6.41 19 12 13.41 17.59 19 19 17.59 13.41 12z\"></path></svg></span></div></div><div class=\"Cn0uId\"><div class=\"z3sb8 abwWE\"></div><div class=\"z3sb8 z665nc\"></div><div class=\"z3sb8 uBOhsb\"></div><div class=\"z3sb8 k8Juzf\"></div></div><div jsname=\"s2gQvd\" class=\"cygiMd\" style=\"padding-bottom:52px\"><div class=\"kyas6e\"><div class=\"x1Fkmf\">Source</div><div class=\"DCiuzf\" style=\"display:inline\"><img class=\"Pb0vac\" src=\"data:image/png;base64,iVBORw0KGgoAAAANSUhEUgAAABAAAAAQCAMAAAAoLQ9TAAAARVBMVEVGUVhET1ZDTVQ9SVBaaHFufolsfYimrLGgp6t4gIaQprSTqLcuO0Lv9Pjm6+/r8PQ4QUb0+PwXKjQyP0eOpLKboaaMoa9d6+TqAAAAaUlEQVR4AXWPhQHAIAzA8OEO/586ZC5B6y0AEDUgwAPUZEIZowQvvCMQQFQqJak2Des4Bogp7xXTIabo7LciK5WZdj1kKiRrW5vCi/0OeXvkxi1HrjWfIf8K15ghVObcW7eN1vpruNf4KxbNCc/6xR3AAAAAAElFTkSuQmCC\"><span>Read the Docs is an open sourced free software documentation hosting platform. It generates documentation written with the Sphinx documentation generator. The site was created in 2010 by Eric Holscher, Bobby Grace, and Charles Leifer.</span></div><div style=\"display:inline;margin-left:4px;font-size:14px\"><a href=\"https://en.wikipedia.org/wiki/Read_the_Docs\">Wikipedia</a></div><ul class=\"KpCJvf\" style=\"display:inline\"><li class=\"f22z0e\" style=\"padding-top:12px\"><div class=\"kyLIJe\"><span>Your connection to this site is <b>secure</b></span></div></li><li class=\"f22z0e\"><div class=\"kyLIJe\"><a href=\"https://splinter.readthedocs.io/\" target=\"_blank\">https://splinter.readthedocs.io/</a></div></li></ul></div><div class=\"gGlYHf\"><p href=\"?hl=en\">This is a search result, not an ad. Only ads are paid, and they'll always be labeled with \"Sponsored\" or \"Ad.\"</p><br><a jsname=\"oyt78e\" class=\"O0oZCe\" role=\"link\" tabindex=\"0\" data-ved=\"2ahUKEwjomPzrhtTvAhUULX0KHXAsCWYQ0r4HMAB6BAgIEAk\">Send feedback on this info</a></div><div jsname=\"LQLjdd\" class=\"OAssce\"><div class=\"Imj78\"><div class=\"u0G9Kc\"><a href=\"https://myactivity.google.com/privacyadvisor/search\" tabindex=\"0\" target=\"_blank\"><div class=\"gziGLd WGYX8\" id=\"qCA1yf\"><span class=\"cQkxXe\"><span class=\"mdUiPd S003Ke mtnwac z1asCe E9hVAb\" style=\"height:14px;line-height:14px;width:14px\"><svg focusable=\"false\" xmlns=\"http://www.w3.org/2000/svg\" viewBox=\"0 0 24 24\"><path d=\"M19.43 12.98c.04-.32.07-.64.07-.98s-.03-.66-.07-.98l2.11-1.65c.19-.15.24-.42.12-.64l-2-3.46c-.12-.22-.39-.3-.61-.22l-2.49 1c-.52-.4-1.08-.73-1.69-.98l-.38-2.65C14.46 2.18 14.25 2 14 2h-4c-.25 0-.46.18-.49.42l-.38 2.65c-.61.25-1.17.59-1.69.98l-2.49-1c-.23-.09-.49 0-.61.22l-2 3.46c-.13.22-.07.49.12.64l2.11 1.65c-.04.32-.07.65-.07.98s.03.66.07.98l-2.11 1.65c-.19.15-.24.42-.12.64l2 3.46c.12.22.39.3.61.22l2.49-1c.52.4 1.08.73 1.69.98l.38 2.65c.03.24.24.42.49.42h4c.25 0 .46-.18.49-.42l.38-2.65c.61-.25 1.17-.59 1.69-.98l2.49 1c.23.09.49 0 .61-.22l2-3.46c.12-.22.07-.49-.12-.64l-2.11-1.65zM12 15.5c-1.93 0-3.5-1.57-3.5-3.5s1.57-3.5 3.5-3.5 3.5 1.57 3.5 3.5-1.57 3.5-3.5 3.5z\"></path></svg></span> <span>Privacy settings</span></span></div></a></div><div class=\"u0G9Kc\"><a href=\"https://www.google.com/search/howsearchworks/\" tabindex=\"0\" target=\"_blank\"><div class=\"gziGLd WGYX8\" id=\"fGmxxe\"><span class=\"cQkxXe\"><span class=\"mdUiPd S003Ke mtnwac z1asCe MZy1Rb\" style=\"height:14px;line-height:14px;width:14px\"><svg focusable=\"false\" xmlns=\"http://www.w3.org/2000/svg\" viewBox=\"0 0 24 24\"><path d=\"M15.5 14h-.79l-.28-.27A6.471 6.471 0 0 0 16 9.5 6.5 6.5 0 1 0 9.5 16c1.61 0 3.09-.59 4.23-1.57l.27.28v.79l5 4.99L20.49 19l-4.99-5zm-6 0C7.01 14 5 11.99 5 9.5S7.01 5 9.5 5 14 7.01 14 9.5 11.99 14 9.5 14z\"></path></svg></span><span>How Search works</span></span></div></a></div><div class=\"u0G9Kc\"><div class=\"gziGLd NTrp2c WGYX8\" style=\"padding:0\"><a href=\"https://webcache.googleusercontent.com/search?q=cache:ChI3-GoEylsJ:https://splinter.readthedocs.io/+&amp;cd=1&amp;hl=en&amp;ct=clnk&amp;gl=us\" ping=\"/url?sa=t&amp;source=web&amp;rct=j&amp;url=https://webcache.googleusercontent.com/search%3Fq%3Dcache:ChI3-GoEylsJ:https://splinter.readthedocs.io/%2B%26cd%3D1%26hl%3Den%26ct%3Dclnk%26gl%3Dus&amp;ved=2ahUKEwjomPzrhtTvAhUULX0KHXAsCWYQIDAAegQICBAN\"><span>Cached</span></a></div></div><div class=\"u0G9Kc\"><div class=\"gziGLd NTrp2c WGYX8\" style=\"padding:0\"><a href=\"/search?q=related:https://splinter.readthedocs.io/+splinter+python&amp;sa=X&amp;ved=2ahUKEwjomPzrhtTvAhUULX0KHXAsCWYQHzAAegQICBAP\"><span>Similar</span></a></div></div></div><div class=\"Vk8eFe\" role=\"region\" tabindex=\"0\"></div></div></div></div></div></div></g-popup></div></div></div></div><div class=\"IsZvec\"><span class=\"aCOpRe\"><span><em>Splinter</em>¶. <em>Splinter</em> is an open source tool for testing web applications using <em>Python</em>. It lets you automate browser actions, such as visiting URLs and interacting with&nbsp;...</span></span></div></div><table class=\"jmjoTe\" cellpadding=\"0\" cellspacing=\"0\"><tbody><tr class=\"mslg dmenKe\"><td><div class=\"usJj9c\"><h3 class=\"r\"><a class=\"l\" href=\"https://splinter.readthedocs.io/en/latest/tutorial.html\" data-ved=\"2ahUKEwjomPzrhtTvAhUULX0KHXAsCWYQjBAwAXoECAIQAQ\" ping=\"/url?sa=t&amp;source=web&amp;rct=j&amp;url=https://splinter.readthedocs.io/en/latest/tutorial.html&amp;ved=2ahUKEwjomPzrhtTvAhUULX0KHXAsCWYQjBAwAXoECAIQAQ\">Splinter Tutorial</a></h3><div class=\"s\"><div class=\"st\" style=\"overflow:hidden;width:220px\">Splinter tutorial, learn how to test your web applications.<br></div></div></div></td><td><div class=\"usJj9c\"><h3 class=\"r\"><a class=\"l\" href=\"https://splinter.readthedocs.io/en/latest/install.html\" data-ved=\"2ahUKEwjomPzrhtTvAhUULX0KHXAsCWYQjBAwBHoECAkQAQ\" ping=\"/url?sa=t&amp;source=web&amp;rct=j&amp;url=https://splinter.readthedocs.io/en/latest/install.html&amp;ved=2ahUKEwjomPzrhtTvAhUULX0KHXAsCWYQjBAwBHoECAkQAQ\">Install guide</a></h3><div class=\"s\"><div class=\"st\" style=\"overflow:hidden;width:220px\">If you're using Linux or Mac OS X, it is probably already installed ...<br></div></div></div></td></tr><tr class=\"mslg c9EJob\"><td><div class=\"usJj9c\"><h3 class=\"r\"><a class=\"l\" href=\"https://splinter.readthedocs.io/en/latest/browser.html\" data-ved=\"2ahUKEwjomPzrhtTvAhUULX0KHXAsCWYQjBAwAnoECAsQAQ\" ping=\"/url?sa=t&amp;source=web&amp;rct=j&amp;url=https://splinter.readthedocs.io/en/latest/browser.html&amp;ved=2ahUKEwjomPzrhtTvAhUULX0KHXAsCWYQjBAwAnoECAsQAQ\">Browser</a></h3><div class=\"s\"><div class=\"st\" style=\"overflow:hidden;width:220px\">To use splinter you need to create a Browser instance: from ...<br></div></div></div></td><td><div class=\"usJj9c\"><h3 class=\"r\"><a class=\"l\" href=\"https://splinter.readthedocs.io/en/0.0.3/\" data-ved=\"2ahUKEwjomPzrhtTvAhUULX0KHXAsCWYQjBAwBXoECAYQAQ\" ping=\"/url?sa=t&amp;source=web&amp;rct=j&amp;url=https://splinter.readthedocs.io/en/0.0.3/&amp;ved=2ahUKEwjomPzrhtTvAhUULX0KHXAsCWYQjBAwBXoECAYQAQ\">0.0.3</a></h3><div class=\"s\"><div class=\"st\" style=\"overflow:hidden;width:220px\">splinter - python acceptance testing for web applications ...<br></div></div></div></td></tr><tr class=\"mslg\"><td><div class=\"usJj9c\"><h3 class=\"r\"><a class=\"l\" href=\"https://splinter.readthedocs.io/en/latest/drivers/chrome.html\" data-ved=\"2ahUKEwjomPzrhtTvAhUULX0KHXAsCWYQjBAwA3oECAoQAQ\" ping=\"/url?sa=t&amp;source=web&amp;rct=j&amp;url=https://splinter.readthedocs.io/en/latest/drivers/chrome.html&amp;ved=2ahUKEwjomPzrhtTvAhUULX0KHXAsCWYQjBAwA3oECAoQAQ\">Chrome WebDriver</a></h3><div class=\"s\"><div class=\"st\" style=\"overflow:hidden;width:220px\">Chrome can also be used from a custom path. To do this pass the ...<br></div></div></div></td><td><div class=\"usJj9c\"><h3 class=\"r\"><a class=\"l\" href=\"https://splinter.readthedocs.io/en/latest/finding.html\" data-ved=\"2ahUKEwjomPzrhtTvAhUULX0KHXAsCWYQjBAwBnoECAQQAQ\" ping=\"/url?sa=t&amp;source=web&amp;rct=j&amp;url=https://splinter.readthedocs.io/en/latest/finding.html&amp;ved=2ahUKEwjomPzrhtTvAhUULX0KHXAsCWYQjBAwBnoECAQQAQ\">Finding elements</a></h3><div class=\"s\"><div class=\"st\" style=\"overflow:hidden;width:220px\">Splinter provides 6 methods for finding elements in the page ...<br></div></div></div></td></tr><tr><td class=\"H3TZoe\" colspan=\"2\"><div class=\"vLK3gc\"><a class=\"fl\" href=\"/search?q=splinter+python+site:splinter.readthedocs.io&amp;sa=X&amp;ved=2ahUKEwjomPzrhtTvAhUULX0KHXAsCWYQrAN6BAgIEBA\">More results from splinter.readthedocs.io&nbsp;»</a></div></td></tr></tbody></table></div>"
      ],
      "text/plain": [
       "<IPython.core.display.HTML object>"
      ]
     },
     "metadata": {},
     "output_type": "display_data"
    }
   ],
   "source": [
    "# we can render the html in jupyter notebooks, now this illustrate better what result[0] returned\n",
    "from IPython.core.display import display, HTML\n",
    "display(HTML(elmt_html))"
   ]
  },
  {
   "cell_type": "code",
   "execution_count": 78,
   "metadata": {},
   "outputs": [],
   "source": [
    "# since results[0] represent the small piece of the full page. \n",
    "# we can use it as we use the browser normally but it's scope its onlt that small piece of html\n",
    "results[0].find_by_css('a').click()"
   ]
  },
  {
   "cell_type": "code",
   "execution_count": 79,
   "metadata": {},
   "outputs": [],
   "source": [
    "# going backwards\n",
    "browser.back()"
   ]
  },
  {
   "cell_type": "code",
   "execution_count": 80,
   "metadata": {},
   "outputs": [
    {
     "name": "stdout",
     "output_type": "stream",
     "text": [
      "Splinter — Splinter 0.14.0 documentation\n",
      "splinter.readthedocs.io\n"
     ]
    }
   ],
   "source": [
    "# get again the results because clear it when we did the click()\n",
    "# This is how to get the text back\n",
    "results = browser.find_by_css('div[class=g]')\n",
    "results\n",
    "\n",
    "print(results[0].find_by_css('a').text)"
   ]
  },
  {
   "cell_type": "code",
   "execution_count": 86,
   "metadata": {},
   "outputs": [
    {
     "data": {
      "text/plain": [
       "'https://splinter.readthedocs.io/'"
      ]
     },
     "execution_count": 86,
     "metadata": {},
     "output_type": "execute_result"
    }
   ],
   "source": [
    "# get the link\n",
    "results[0].find_by_tag('a')[\"href\"]"
   ]
  },
  {
   "cell_type": "code",
   "execution_count": 67,
   "metadata": {},
   "outputs": [],
   "source": [
    "browser.quit()"
   ]
  },
  {
   "cell_type": "code",
   "execution_count": null,
   "metadata": {},
   "outputs": [],
   "source": []
  }
 ],
 "metadata": {
  "kernelspec": {
   "display_name": "Python 3",
   "language": "python",
   "name": "python3"
  },
  "language_info": {
   "codemirror_mode": {
    "name": "ipython",
    "version": 3
   },
   "file_extension": ".py",
   "mimetype": "text/x-python",
   "name": "python",
   "nbconvert_exporter": "python",
   "pygments_lexer": "ipython3",
   "version": "3.8.8"
  }
 },
 "nbformat": 4,
 "nbformat_minor": 4
}
